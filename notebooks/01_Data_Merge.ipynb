{
 "cells": [
  {
   "cell_type": "markdown",
   "metadata": {},
   "source": [
    "## **01_Data_Merge**\n",
    "\n",
    "In dieser Dateien werden die Property-Sales Daten der Jahren 2004 bis 2024 eingelesen, zusammengeführt und gespeichert. "
   ]
  },
  {
   "cell_type": "code",
   "execution_count": 25,
   "metadata": {},
   "outputs": [],
   "source": [
    "# Imports\n",
    "import pandas as pd\n",
    "import glob\n",
    "import os"
   ]
  },
  {
   "cell_type": "markdown",
   "metadata": {},
   "source": [
    "### Einlesen"
   ]
  },
  {
   "cell_type": "code",
   "execution_count": 26,
   "metadata": {},
   "outputs": [
    {
     "name": "stderr",
     "output_type": "stream",
     "text": [
      "/var/folders/jf/k1y_jzxs5177jm_fgv__dnww0000gn/T/ipykernel_15092/1123573799.py:8: DtypeWarning: Columns (16,18,23) have mixed types. Specify dtype option on import or set low_memory=False.\n",
      "  list_dfs = [pd.read_csv(datei) for datei in list_all_data]\n"
     ]
    }
   ],
   "source": [
    "# Pfad in dem die einzelnen Daten (csv) liegen\n",
    "path_all_data = '../data/input_data'\n",
    "\n",
    "# Liste aller CSV-Dateien\n",
    "list_all_data = glob.glob(os.path.join(path_all_data, \"*.csv\"))\n",
    "\n",
    "# Liste der eingelesen Daten (dfs)\n",
    "list_dfs = [pd.read_csv(datei) for datei in list_all_data]"
   ]
  },
  {
   "cell_type": "markdown",
   "metadata": {},
   "source": [
    "### Zusammenführen"
   ]
  },
  {
   "cell_type": "code",
   "execution_count": 27,
   "metadata": {},
   "outputs": [],
   "source": [
    "# Alle Daten zusammenführen\n",
    "df = pd.concat(list_dfs, ignore_index=True)"
   ]
  },
  {
   "cell_type": "markdown",
   "metadata": {},
   "source": [
    "### Speicherung"
   ]
  },
  {
   "cell_type": "code",
   "execution_count": 28,
   "metadata": {},
   "outputs": [],
   "source": [
    "# Speicherung des zusammengeführter Datensatzes\n",
    "df.to_csv(\"../data/output_data/property_sales_2004-2024.csv\", index=False)"
   ]
  },
  {
   "cell_type": "markdown",
   "metadata": {},
   "source": [
    "***\n",
    "***"
   ]
  }
 ],
 "metadata": {
  "kernelspec": {
   "display_name": "Python 3",
   "language": "python",
   "name": "python3"
  },
  "language_info": {
   "codemirror_mode": {
    "name": "ipython",
    "version": 3
   },
   "file_extension": ".py",
   "mimetype": "text/x-python",
   "name": "python",
   "nbconvert_exporter": "python",
   "pygments_lexer": "ipython3",
   "version": "3.11.0"
  }
 },
 "nbformat": 4,
 "nbformat_minor": 2
}
